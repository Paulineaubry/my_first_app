{
 "cells": [
  {
   "cell_type": "code",
   "execution_count": null,
   "id": "2cc8defb",
   "metadata": {},
   "outputs": [],
   "source": [
    "import streamlit as st\n",
    "import pandas as pd\n",
    "\n",
    "# lien du dataset à utiliser dans cette appli\n",
    "url = \"https://raw.githubusercontent.com/mwaskom/seaborn-data/master/taxis.csv\"\n",
    "# Avec pandas lis le fichier csv du lien et affecte à df\n",
    "df = pd.read_csv(url)\n",
    "\n",
    "# créer une liste des arrondissements\n",
    "arrondissements = df['pickup_borough'].unique().tolist()\n",
    "\n",
    "# associe les photos à une variable\n",
    "manhattan_photo = \"https://res.cloudinary.com/dtljonz0f/image/upload/c_auto,ar_16:9,g_auto/f_auto/q_auto/v1/gc-v1/new-york/bedford-shutterstock_1715292730?_a=BAVAZGE70\"\n",
    "bronx_photo = \"https://photo620x400.mnstatic.com/fdd552b53deea69a647a6ffcca9ed153/bronx-.jpg\"\n",
    "brooklyn_photo = \"https://trvlr.fr/wp-content/uploads/2020/08/brooklyn-bridge-conseils-village-trvlr-voyage-que-voir-que-faire-7-jours.jpg\"\n",
    "queens_photo = \"https://www.new-york-city-travel-tips.com/wordpress/wp-content/uploads/2015/04/Queens-BPVNY-NYCTT-MPVNY-23-600x400.jpg\"\n",
    "nan_photo = \"https://us.123rf.com/450wm/janifest/janifest1607/janifest160700377/59949477-panneau-de-signalisation-de-new-york-city-one-way-avec-feu-de-circulation-pi%C3%A9tonne-dans-la-rue-sous-.jpg\"\n",
    "\n",
    "# Titre de mon site\n",
    "st.header(\"Bienvenue sur le site web de PAULINE\")\n",
    "\n",
    "# selectbox\n",
    "arrondissement_select = st.selectbox(\"Indiquez votre arrondissement de récupération\",\n",
    "                                     arrondissements) \n",
    "\n",
    "if arrondissement_select == \"Brooklyn\":\n",
    "    st.write(f\"Tu as choisi: {arrondissement_select}\")\n",
    "    st.image(brooklyn_photo,width=700)\n",
    "elif arrondissement_select == \"Bronx\":\n",
    "    st.write(f\"Tu as choisi: {arrondissement_select}\")\n",
    "    st.image(bronx_photo,width=700)\n",
    "elif arrondissement_select == \"Queens\":\n",
    "    st.write(f\"Tu as choisi: {arrondissement_select}\")\n",
    "    st.image(queens_photo,width=700)\n",
    "elif arrondissement_select == \"Manhattan\":\n",
    "    st.write(f\"Tu as choisi: {arrondissement_select}\")\n",
    "    st.image(manhattan_photo,width=700)\n",
    "else:\n",
    "    st.write(f\"Tu as choisi: {arrondissement_select}\")\n",
    "    st.image(nan_photo,width=700)"
   ]
  }
 ],
 "metadata": {
  "language_info": {
   "name": "python"
  }
 },
 "nbformat": 4,
 "nbformat_minor": 5
}
