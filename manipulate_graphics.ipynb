{
 "cells": [
  {
   "cell_type": "code",
   "execution_count": null,
   "metadata": {},
   "outputs": [],
   "source": [
    "import streamlit as st\n",
    "import seaborn as sns\n",
    "import pandas as pd\n",
    "import matplotlib.pyplot as plt\n",
    "\n",
    "# extract all csv\n",
    "# automatiser le chargement du df\n",
    "df = [\n",
    "        \"anscombe\", \"attention\", \"brain_networks\", \"car_crashes\", \"diamonds\",\n",
    "        \"dots\", \"exercise\", \"flights\", \"fmri\", \"gammas\", \"geyser\",\n",
    "        \"iris\", \"mpg\", \"penguins\", \"planets\", \"tips\", \"titanic\", \"taxis\"\n",
    "    ]\n",
    "\n",
    "# title it \"Manipulation de données et création de graphiques\"\n",
    "st.header(\"Manipulation de données et création de graphiques\")\n",
    "# display \"Quel dataset veux-tu utiliser\"\n",
    "# create a selectbox with datasets\n",
    "df_selected = st.selectbox(\"Quel dataset veux-tu utiliser\",df)\n",
    "url = f\"https://raw.githubusercontent.com/mwaskom/seaborn-data/master/{df_selected}.csv\"\n",
    "# load the selected df\n",
    "df = pd.read_csv(url)\n",
    "st.dataframe(df)\n",
    "# liste of columns from selected df\n",
    "columns = df.columns.tolist()\n",
    "# display \"Choisissez la colonne X\"\n",
    "# create a selectbox with the columns\n",
    "X = st.selectbox(\"Choisissez la colonne X\",columns)\n",
    "# display \"Choisissez la colonne Y\"\n",
    "# create a selectbox with the columns\n",
    "Y = st.selectbox(\"Choisissez la colonne Y\",columns)\n",
    "# display \"Quel graphique veux-tu utiliser ?\"\n",
    "# create a selectbox with :\n",
    "    # scatter_chart\n",
    "    # bar_chart\n",
    "    # line_chart\n",
    "chart = st.selectbox(\"Quel graphique veux-tu utiliser ?\",[\"scatter_chart\", \"bar_chart\", \"line_chart\"])\n",
    "if chart == \"scatter_chart\":\n",
    "    st.scatter_chart(df[[X, Y]])\n",
    "elif chart == \"bar_chart\":\n",
    "    st.bar_chart(df[[X, Y]])\n",
    "else :\n",
    "    st.line_chart(df[[X, Y]])\n",
    "# create a checkbox and display \"Afficher la matrice de corrélation\"\n",
    "matrix= st.checkbox(\"Afficher la matrice de corrélation\")\n",
    "# if checkbox checked: \n",
    "# display subtitle \"Ma matrice de corrélation\" and the correlation matrix of selected columns \n",
    "if matrix :\n",
    "    st.subheader(\"Ma matrice de corrélation\")\n",
    "    corr = df[[X, Y]].corr()\n",
    "    fig, ax = plt.subplots()\n",
    "    sns.heatmap(corr, annot=True, cmap=\"copper\", ax=ax)\n",
    "    st.pyplot(fig)\n"
   ]
  }
 ],
 "metadata": {
  "kernelspec": {
   "display_name": "Python 3",
   "language": "python",
   "name": "python3"
  },
  "language_info": {
   "codemirror_mode": {
    "name": "ipython",
    "version": 3
   },
   "file_extension": ".py",
   "mimetype": "text/x-python",
   "name": "python",
   "nbconvert_exporter": "python",
   "pygments_lexer": "ipython3",
   "version": "3.10.12"
  }
 },
 "nbformat": 4,
 "nbformat_minor": 5
}
